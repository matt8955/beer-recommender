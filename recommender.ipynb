{
 "cells": [
  {
   "cell_type": "code",
   "execution_count": 1,
   "metadata": {},
   "outputs": [],
   "source": [
    "import surprise\n",
    "import os\n",
    "import pandas as pd\n",
    "import numpy as np\n",
    "from surprise.model_selection import KFold\n",
    "from surprise.model_selection import cross_validate\n",
    "from surprise.reader import Reader\n",
    "from surprise import Dataset\n",
    "from surprise import accuracy\n",
    "from surprise import BaselineOnly\n",
    "from surprise.model_selection import train_test_split\n",
    "from collections import defaultdict\n",
    "import functions as f"
   ]
  },
  {
   "cell_type": "code",
   "execution_count": 2,
   "metadata": {},
   "outputs": [],
   "source": [
    "df = pd.read_csv('beer_reviews.csv')"
   ]
  },
  {
   "cell_type": "code",
   "execution_count": 3,
   "metadata": {},
   "outputs": [
    {
     "data": {
      "text/plain": [
       "Index(['brewery_id', 'brewery_name', 'review_time', 'review_overall',\n",
       "       'review_aroma', 'review_appearance', 'review_profilename', 'beer_style',\n",
       "       'review_palate', 'review_taste', 'beer_name', 'beer_abv',\n",
       "       'beer_beerid'],\n",
       "      dtype='object')"
      ]
     },
     "execution_count": 3,
     "metadata": {},
     "output_type": "execute_result"
    }
   ],
   "source": [
    "df.columns"
   ]
  },
  {
   "cell_type": "code",
   "execution_count": 4,
   "metadata": {},
   "outputs": [],
   "source": [
    "breweries = df[['brewery_id','brewery_name']].drop_duplicates()"
   ]
  },
  {
   "cell_type": "code",
   "execution_count": 5,
   "metadata": {},
   "outputs": [],
   "source": [
    "brewery_dict = breweries.set_index('brewery_id').to_dict()['brewery_name']"
   ]
  },
  {
   "cell_type": "code",
   "execution_count": 6,
   "metadata": {},
   "outputs": [],
   "source": [
    "beer = df[['beer_beerid','beer_name']].drop_duplicates()"
   ]
  },
  {
   "cell_type": "code",
   "execution_count": 7,
   "metadata": {},
   "outputs": [],
   "source": [
    "beer_dict = beer.set_index('beer_beerid').to_dict()['beer_name']"
   ]
  },
  {
   "cell_type": "code",
   "execution_count": 8,
   "metadata": {},
   "outputs": [],
   "source": [
    "surprise_df = df[['review_profilename','beer_beerid','review_overall']]"
   ]
  },
  {
   "cell_type": "code",
   "execution_count": 9,
   "metadata": {},
   "outputs": [],
   "source": [
    "reader = surprise.Reader(rating_scale=(0,5))\n",
    "\n",
    "data = Dataset.load_from_df(surprise_df, reader)"
   ]
  },
  {
   "cell_type": "code",
   "execution_count": 20,
   "metadata": {},
   "outputs": [
    {
     "name": "stdout",
     "output_type": "stream",
     "text": [
      "Estimating biases using als...\n",
      "Estimating biases using als...\n",
      "Estimating biases using als...\n",
      "Estimating biases using als...\n",
      "Estimating biases using als...\n",
      "Evaluating RMSE, MAE of algorithm BaselineOnly on 5 split(s).\n",
      "\n",
      "                  Fold 1  Fold 2  Fold 3  Fold 4  Fold 5  Mean    Std     \n",
      "RMSE (testset)    0.6054  0.6066  0.6083  0.6073  0.6072  0.6070  0.0010  \n",
      "MAE (testset)     0.4533  0.4538  0.4544  0.4544  0.4537  0.4539  0.0004  \n",
      "Fit time          5.38    5.31    5.59    5.70    5.47    5.49    0.14    \n",
      "Test time         4.34    4.19    4.26    7.12    4.16    4.81    1.16    \n"
     ]
    }
   ],
   "source": [
    "baseline = cross_validate(BaselineOnly(), data, verbose=True)"
   ]
  },
  {
   "cell_type": "code",
   "execution_count": 21,
   "metadata": {},
   "outputs": [
    {
     "name": "stdout",
     "output_type": "stream",
     "text": [
      "Evaluating RMSE, MAE of algorithm SVD on 5 split(s).\n",
      "\n",
      "                  Fold 1  Fold 2  Fold 3  Fold 4  Fold 5  Mean    Std     \n",
      "RMSE (testset)    0.6072  0.6089  0.6069  0.6088  0.6070  0.6077  0.0009  \n",
      "MAE (testset)     0.4549  0.4553  0.4547  0.4550  0.4542  0.4548  0.0004  \n",
      "Fit time          97.47   97.57   107.44  97.74   105.92  101.23  4.48    \n",
      "Test time         5.84    5.72    11.11   5.33    7.24    7.05    2.13    \n"
     ]
    }
   ],
   "source": [
    "svd = cross_validate(surprise.SVD(), data, verbose=True)"
   ]
  },
  {
   "cell_type": "code",
   "execution_count": 10,
   "metadata": {},
   "outputs": [],
   "source": []
  },
  {
   "cell_type": "code",
   "execution_count": 15,
   "metadata": {},
   "outputs": [
    {
     "name": "stdout",
     "output_type": "stream",
     "text": [
      "Estimating biases using als...\n",
      "Computing the msd similarity matrix...\n",
      "Done computing similarity matrix.\n",
      "Estimating biases using als...\n",
      "Computing the msd similarity matrix...\n",
      "Done computing similarity matrix.\n",
      "Estimating biases using als...\n",
      "Computing the msd similarity matrix...\n",
      "Done computing similarity matrix.\n",
      "Estimating biases using als...\n",
      "Computing the msd similarity matrix...\n",
      "Done computing similarity matrix.\n",
      "Estimating biases using als...\n",
      "Computing the msd similarity matrix...\n",
      "Done computing similarity matrix.\n",
      "Computing the msd similarity matrix...\n",
      "Done computing similarity matrix.\n",
      "Computing the msd similarity matrix...\n",
      "Done computing similarity matrix.\n",
      "Computing the msd similarity matrix...\n",
      "Done computing similarity matrix.\n",
      "Computing the msd similarity matrix...\n",
      "Done computing similarity matrix.\n",
      "Computing the msd similarity matrix...\n",
      "Done computing similarity matrix.\n",
      "Computing the msd similarity matrix...\n",
      "Done computing similarity matrix.\n",
      "Computing the msd similarity matrix...\n",
      "Done computing similarity matrix.\n",
      "Computing the msd similarity matrix...\n",
      "Done computing similarity matrix.\n",
      "Computing the msd similarity matrix...\n",
      "Done computing similarity matrix.\n",
      "Computing the msd similarity matrix...\n",
      "Done computing similarity matrix.\n",
      "Computing the msd similarity matrix...\n",
      "Done computing similarity matrix.\n",
      "Computing the msd similarity matrix...\n",
      "Done computing similarity matrix.\n",
      "Computing the msd similarity matrix...\n",
      "Done computing similarity matrix.\n",
      "Computing the msd similarity matrix...\n",
      "Done computing similarity matrix.\n",
      "Computing the msd similarity matrix...\n",
      "Done computing similarity matrix.\n",
      "Estimating biases using als...\n",
      "Estimating biases using als...\n",
      "Estimating biases using als...\n",
      "Estimating biases using als...\n",
      "Estimating biases using als...\n"
     ]
    },
    {
     "data": {
      "text/html": [
       "<div>\n",
       "<style scoped>\n",
       "    .dataframe tbody tr th:only-of-type {\n",
       "        vertical-align: middle;\n",
       "    }\n",
       "\n",
       "    .dataframe tbody tr th {\n",
       "        vertical-align: top;\n",
       "    }\n",
       "\n",
       "    .dataframe thead th {\n",
       "        text-align: right;\n",
       "    }\n",
       "</style>\n",
       "<table border=\"1\" class=\"dataframe\">\n",
       "  <thead>\n",
       "    <tr style=\"text-align: right;\">\n",
       "      <th></th>\n",
       "      <th>test_rmse</th>\n",
       "      <th>fit_time</th>\n",
       "      <th>test_time</th>\n",
       "    </tr>\n",
       "    <tr>\n",
       "      <th>Algorithm</th>\n",
       "      <th></th>\n",
       "      <th></th>\n",
       "      <th></th>\n",
       "    </tr>\n",
       "  </thead>\n",
       "  <tbody>\n",
       "    <tr>\n",
       "      <td>BaselineOnly</td>\n",
       "      <td>0.606902</td>\n",
       "      <td>5.221247</td>\n",
       "      <td>4.431237</td>\n",
       "    </tr>\n",
       "    <tr>\n",
       "      <td>SVD</td>\n",
       "      <td>0.607842</td>\n",
       "      <td>111.254950</td>\n",
       "      <td>6.599376</td>\n",
       "    </tr>\n",
       "    <tr>\n",
       "      <td>KNNBaseline</td>\n",
       "      <td>0.608893</td>\n",
       "      <td>167.119418</td>\n",
       "      <td>223.458283</td>\n",
       "    </tr>\n",
       "    <tr>\n",
       "      <td>KNNBasic</td>\n",
       "      <td>0.628321</td>\n",
       "      <td>150.484961</td>\n",
       "      <td>169.329469</td>\n",
       "    </tr>\n",
       "    <tr>\n",
       "      <td>KNNWithMeans</td>\n",
       "      <td>0.632695</td>\n",
       "      <td>163.313102</td>\n",
       "      <td>203.128058</td>\n",
       "    </tr>\n",
       "    <tr>\n",
       "      <td>KNNWithZScore</td>\n",
       "      <td>0.637511</td>\n",
       "      <td>203.990611</td>\n",
       "      <td>221.000835</td>\n",
       "    </tr>\n",
       "    <tr>\n",
       "      <td>CoClustering</td>\n",
       "      <td>0.673719</td>\n",
       "      <td>54.711746</td>\n",
       "      <td>6.077905</td>\n",
       "    </tr>\n",
       "    <tr>\n",
       "      <td>NormalPredictor</td>\n",
       "      <td>0.996090</td>\n",
       "      <td>3.298289</td>\n",
       "      <td>5.766750</td>\n",
       "    </tr>\n",
       "  </tbody>\n",
       "</table>\n",
       "</div>"
      ],
      "text/plain": [
       "                 test_rmse    fit_time   test_time\n",
       "Algorithm                                         \n",
       "BaselineOnly      0.606902    5.221247    4.431237\n",
       "SVD               0.607842  111.254950    6.599376\n",
       "KNNBaseline       0.608893  167.119418  223.458283\n",
       "KNNBasic          0.628321  150.484961  169.329469\n",
       "KNNWithMeans      0.632695  163.313102  203.128058\n",
       "KNNWithZScore     0.637511  203.990611  221.000835\n",
       "CoClustering      0.673719   54.711746    6.077905\n",
       "NormalPredictor   0.996090    3.298289    5.766750"
      ]
     },
     "execution_count": 15,
     "metadata": {},
     "output_type": "execute_result"
    }
   ],
   "source": [
    "from surprise import SVD, NormalPredictor, KNNBaseline, KNNBasic, KNNWithMeans, KNNWithZScore, BaselineOnly, CoClustering\n",
    "\n",
    "benchmark = []\n",
    "# Iterate over all algorithms\n",
    "for algorithm in [SVD(), NormalPredictor(), KNNBaseline(), KNNBasic(), KNNWithMeans(), KNNWithZScore(), BaselineOnly(), CoClustering()]:\n",
    "    # Perform cross validation\n",
    "    results = cross_validate(algorithm, data, measures=['RMSE'], cv=5, verbose=False)\n",
    "    \n",
    "    # Get results & append algorithm name\n",
    "    tmp = pd.DataFrame.from_dict(results).mean(axis=0)\n",
    "    tmp = tmp.append(pd.Series([str(algorithm).split(' ')[0].split('.')[-1]], index=['Algorithm']))\n",
    "    benchmark.append(tmp)\n",
    "    \n",
    "pd.DataFrame(benchmark).set_index('Algorithm').sort_values('test_rmse')  "
   ]
  },
  {
   "cell_type": "code",
   "execution_count": 36,
   "metadata": {},
   "outputs": [
    {
     "name": "stdout",
     "output_type": "stream",
     "text": [
      "Evaluating RMSE, MAE of algorithm SVD on 10 split(s).\n",
      "\n",
      "                  Fold 1  Fold 2  Fold 3  Fold 4  Fold 5  Fold 6  Fold 7  Fold 8  Fold 9  Fold 10 Mean    Std     \n",
      "RMSE (testset)    0.6069  0.6071  0.6073  0.6057  0.6028  0.6069  0.6032  0.6070  0.6025  0.6045  0.6054  0.0019  \n",
      "MAE (testset)     0.4544  0.4535  0.4540  0.4532  0.4510  0.4539  0.4516  0.4533  0.4507  0.4526  0.4528  0.0012  \n",
      "Fit time          116.20  116.46  113.95  111.29  111.32  114.91  111.95  114.21  110.25  111.46  113.20  2.11    \n",
      "Test time         2.64    2.21    2.11    3.97    3.42    2.64    2.32    3.62    3.47    2.26    2.87    0.65    \n"
     ]
    },
    {
     "data": {
      "text/plain": [
       "{'test_rmse': array([0.60692667, 0.60711864, 0.60731105, 0.60565722, 0.60279991,\n",
       "        0.60694482, 0.60316991, 0.60698378, 0.60248231, 0.60454224]),\n",
       " 'test_mae': array([0.45437835, 0.4535438 , 0.45398415, 0.45315411, 0.45095426,\n",
       "        0.45394147, 0.45161204, 0.45333785, 0.45069494, 0.45262459]),\n",
       " 'fit_time': (116.19934582710266,\n",
       "  116.4635021686554,\n",
       "  113.9470911026001,\n",
       "  111.28920388221741,\n",
       "  111.31957292556763,\n",
       "  114.91191697120667,\n",
       "  111.94657325744629,\n",
       "  114.210618019104,\n",
       "  110.24592781066895,\n",
       "  111.45900201797485),\n",
       " 'test_time': (2.637769937515259,\n",
       "  2.213810920715332,\n",
       "  2.108522891998291,\n",
       "  3.966815948486328,\n",
       "  3.4205799102783203,\n",
       "  2.6384470462799072,\n",
       "  2.323370933532715,\n",
       "  3.6192991733551025,\n",
       "  3.4705379009246826,\n",
       "  2.256937026977539)}"
      ]
     },
     "execution_count": 36,
     "metadata": {},
     "output_type": "execute_result"
    }
   ],
   "source": [
    "algo = SVD()\n",
    "cross_validate(algo, data, measures=['RMSE','MAE'], cv=10, verbose=True)"
   ]
  },
  {
   "cell_type": "code",
   "execution_count": 11,
   "metadata": {},
   "outputs": [
    {
     "ename": "NameError",
     "evalue": "name 'SVD' is not defined",
     "output_type": "error",
     "traceback": [
      "\u001b[0;31m---------------------------------------------------------------------------\u001b[0m",
      "\u001b[0;31mNameError\u001b[0m                                 Traceback (most recent call last)",
      "\u001b[0;32m<ipython-input-11-844bd8968d42>\u001b[0m in \u001b[0;36m<module>\u001b[0;34m\u001b[0m\n\u001b[1;32m     35\u001b[0m \u001b[0mdata\u001b[0m \u001b[0;34m=\u001b[0m \u001b[0mDataset\u001b[0m\u001b[0;34m.\u001b[0m\u001b[0mload_builtin\u001b[0m\u001b[0;34m(\u001b[0m\u001b[0;34m'ml-100k'\u001b[0m\u001b[0;34m)\u001b[0m\u001b[0;34m\u001b[0m\u001b[0;34m\u001b[0m\u001b[0m\n\u001b[1;32m     36\u001b[0m \u001b[0mkf\u001b[0m \u001b[0;34m=\u001b[0m \u001b[0mKFold\u001b[0m\u001b[0;34m(\u001b[0m\u001b[0mn_splits\u001b[0m\u001b[0;34m=\u001b[0m\u001b[0;36m5\u001b[0m\u001b[0;34m)\u001b[0m\u001b[0;34m\u001b[0m\u001b[0;34m\u001b[0m\u001b[0m\n\u001b[0;32m---> 37\u001b[0;31m \u001b[0malgo\u001b[0m \u001b[0;34m=\u001b[0m \u001b[0mSVD\u001b[0m\u001b[0;34m(\u001b[0m\u001b[0;34m)\u001b[0m\u001b[0;34m\u001b[0m\u001b[0;34m\u001b[0m\u001b[0m\n\u001b[0m\u001b[1;32m     38\u001b[0m \u001b[0;34m\u001b[0m\u001b[0m\n\u001b[1;32m     39\u001b[0m \u001b[0;32mfor\u001b[0m \u001b[0mtrainset\u001b[0m\u001b[0;34m,\u001b[0m \u001b[0mtestset\u001b[0m \u001b[0;32min\u001b[0m \u001b[0mkf\u001b[0m\u001b[0;34m.\u001b[0m\u001b[0msplit\u001b[0m\u001b[0;34m(\u001b[0m\u001b[0mdata\u001b[0m\u001b[0;34m)\u001b[0m\u001b[0;34m:\u001b[0m\u001b[0;34m\u001b[0m\u001b[0;34m\u001b[0m\u001b[0m\n",
      "\u001b[0;31mNameError\u001b[0m: name 'SVD' is not defined"
     ]
    }
   ],
   "source": [
    "data = Dataset.load_builtin('ml-100k')\n",
    "kf = KFold(n_splits=5)\n",
    "algo = SVD()\n",
    "\n",
    "for trainset, testset in kf.split(data):\n",
    "    algo.fit(trainset)\n",
    "    predictions = algo.test(testset)\n",
    "    precisions, recalls = f.precision_recall_at_k(predictions, k=5, threshold=4)\n",
    "\n",
    "    # Precision and recall can then be averaged over all users\n",
    "    print(sum(prec for prec in precisions.values()) / len(precisions))\n",
    "    print(sum(rec for rec in recalls.values()) / len(recalls))"
   ]
  },
  {
   "cell_type": "code",
   "execution_count": 44,
   "metadata": {},
   "outputs": [
    {
     "name": "stdout",
     "output_type": "stream",
     "text": [
      "RMSE: 0.9384\n"
     ]
    },
    {
     "data": {
      "text/plain": [
       "0.9384491236565119"
      ]
     },
     "execution_count": 44,
     "metadata": {},
     "output_type": "execute_result"
    }
   ],
   "source": [
    "trainset, testset = train_test_split(data, test_size=0.25)\n",
    "algo = SVD()\n",
    "predictions = algo.fit(trainset).test(testset)\n",
    "accuracy.rmse(predictions)"
   ]
  },
  {
   "cell_type": "code",
   "execution_count": 48,
   "metadata": {},
   "outputs": [],
   "source": [
    "df = pd.DataFrame(predictions, columns=['uid', 'iid', 'rui', 'est', 'details'])\n",
    "df['Iu'] = df.uid.apply(get_Iu)\n",
    "df['Ui'] = df.iid.apply(get_Ui)\n",
    "df['err'] = abs(df.est - df.rui)\n",
    "best_predictions = df.sort_values(by='err')[:10]\n",
    "worst_predictions = df.sort_values(by='err')[-10:]"
   ]
  },
  {
   "cell_type": "code",
   "execution_count": 49,
   "metadata": {},
   "outputs": [
    {
     "data": {
      "text/html": [
       "<div>\n",
       "<style scoped>\n",
       "    .dataframe tbody tr th:only-of-type {\n",
       "        vertical-align: middle;\n",
       "    }\n",
       "\n",
       "    .dataframe tbody tr th {\n",
       "        vertical-align: top;\n",
       "    }\n",
       "\n",
       "    .dataframe thead th {\n",
       "        text-align: right;\n",
       "    }\n",
       "</style>\n",
       "<table border=\"1\" class=\"dataframe\">\n",
       "  <thead>\n",
       "    <tr style=\"text-align: right;\">\n",
       "      <th></th>\n",
       "      <th>uid</th>\n",
       "      <th>iid</th>\n",
       "      <th>rui</th>\n",
       "      <th>est</th>\n",
       "      <th>details</th>\n",
       "      <th>Iu</th>\n",
       "      <th>Ui</th>\n",
       "      <th>err</th>\n",
       "    </tr>\n",
       "  </thead>\n",
       "  <tbody>\n",
       "    <tr>\n",
       "      <td>9795</td>\n",
       "      <td>330</td>\n",
       "      <td>174</td>\n",
       "      <td>5.0</td>\n",
       "      <td>5.0</td>\n",
       "      <td>{'was_impossible': False}</td>\n",
       "      <td>115</td>\n",
       "      <td>305</td>\n",
       "      <td>0.0</td>\n",
       "    </tr>\n",
       "    <tr>\n",
       "      <td>8139</td>\n",
       "      <td>152</td>\n",
       "      <td>272</td>\n",
       "      <td>5.0</td>\n",
       "      <td>5.0</td>\n",
       "      <td>{'was_impossible': False}</td>\n",
       "      <td>84</td>\n",
       "      <td>157</td>\n",
       "      <td>0.0</td>\n",
       "    </tr>\n",
       "    <tr>\n",
       "      <td>23176</td>\n",
       "      <td>907</td>\n",
       "      <td>198</td>\n",
       "      <td>5.0</td>\n",
       "      <td>5.0</td>\n",
       "      <td>{'was_impossible': False}</td>\n",
       "      <td>110</td>\n",
       "      <td>96</td>\n",
       "      <td>0.0</td>\n",
       "    </tr>\n",
       "    <tr>\n",
       "      <td>1138</td>\n",
       "      <td>523</td>\n",
       "      <td>169</td>\n",
       "      <td>5.0</td>\n",
       "      <td>5.0</td>\n",
       "      <td>{'was_impossible': False}</td>\n",
       "      <td>82</td>\n",
       "      <td>87</td>\n",
       "      <td>0.0</td>\n",
       "    </tr>\n",
       "    <tr>\n",
       "      <td>15583</td>\n",
       "      <td>181</td>\n",
       "      <td>260</td>\n",
       "      <td>1.0</td>\n",
       "      <td>1.0</td>\n",
       "      <td>{'was_impossible': False}</td>\n",
       "      <td>312</td>\n",
       "      <td>90</td>\n",
       "      <td>0.0</td>\n",
       "    </tr>\n",
       "    <tr>\n",
       "      <td>24151</td>\n",
       "      <td>507</td>\n",
       "      <td>316</td>\n",
       "      <td>5.0</td>\n",
       "      <td>5.0</td>\n",
       "      <td>{'was_impossible': False}</td>\n",
       "      <td>42</td>\n",
       "      <td>77</td>\n",
       "      <td>0.0</td>\n",
       "    </tr>\n",
       "    <tr>\n",
       "      <td>23983</td>\n",
       "      <td>181</td>\n",
       "      <td>1215</td>\n",
       "      <td>1.0</td>\n",
       "      <td>1.0</td>\n",
       "      <td>{'was_impossible': False}</td>\n",
       "      <td>312</td>\n",
       "      <td>19</td>\n",
       "      <td>0.0</td>\n",
       "    </tr>\n",
       "    <tr>\n",
       "      <td>10111</td>\n",
       "      <td>181</td>\n",
       "      <td>1165</td>\n",
       "      <td>1.0</td>\n",
       "      <td>1.0</td>\n",
       "      <td>{'was_impossible': False}</td>\n",
       "      <td>312</td>\n",
       "      <td>9</td>\n",
       "      <td>0.0</td>\n",
       "    </tr>\n",
       "    <tr>\n",
       "      <td>16218</td>\n",
       "      <td>507</td>\n",
       "      <td>313</td>\n",
       "      <td>5.0</td>\n",
       "      <td>5.0</td>\n",
       "      <td>{'was_impossible': False}</td>\n",
       "      <td>42</td>\n",
       "      <td>257</td>\n",
       "      <td>0.0</td>\n",
       "    </tr>\n",
       "    <tr>\n",
       "      <td>6207</td>\n",
       "      <td>181</td>\n",
       "      <td>758</td>\n",
       "      <td>1.0</td>\n",
       "      <td>1.0</td>\n",
       "      <td>{'was_impossible': False}</td>\n",
       "      <td>312</td>\n",
       "      <td>14</td>\n",
       "      <td>0.0</td>\n",
       "    </tr>\n",
       "  </tbody>\n",
       "</table>\n",
       "</div>"
      ],
      "text/plain": [
       "       uid   iid  rui  est                    details   Iu   Ui  err\n",
       "9795   330   174  5.0  5.0  {'was_impossible': False}  115  305  0.0\n",
       "8139   152   272  5.0  5.0  {'was_impossible': False}   84  157  0.0\n",
       "23176  907   198  5.0  5.0  {'was_impossible': False}  110   96  0.0\n",
       "1138   523   169  5.0  5.0  {'was_impossible': False}   82   87  0.0\n",
       "15583  181   260  1.0  1.0  {'was_impossible': False}  312   90  0.0\n",
       "24151  507   316  5.0  5.0  {'was_impossible': False}   42   77  0.0\n",
       "23983  181  1215  1.0  1.0  {'was_impossible': False}  312   19  0.0\n",
       "10111  181  1165  1.0  1.0  {'was_impossible': False}  312    9  0.0\n",
       "16218  507   313  5.0  5.0  {'was_impossible': False}   42  257  0.0\n",
       "6207   181   758  1.0  1.0  {'was_impossible': False}  312   14  0.0"
      ]
     },
     "execution_count": 49,
     "metadata": {},
     "output_type": "execute_result"
    }
   ],
   "source": [
    "best_predictions"
   ]
  },
  {
   "cell_type": "code",
   "execution_count": 50,
   "metadata": {},
   "outputs": [
    {
     "data": {
      "text/html": [
       "<div>\n",
       "<style scoped>\n",
       "    .dataframe tbody tr th:only-of-type {\n",
       "        vertical-align: middle;\n",
       "    }\n",
       "\n",
       "    .dataframe tbody tr th {\n",
       "        vertical-align: top;\n",
       "    }\n",
       "\n",
       "    .dataframe thead th {\n",
       "        text-align: right;\n",
       "    }\n",
       "</style>\n",
       "<table border=\"1\" class=\"dataframe\">\n",
       "  <thead>\n",
       "    <tr style=\"text-align: right;\">\n",
       "      <th></th>\n",
       "      <th>uid</th>\n",
       "      <th>iid</th>\n",
       "      <th>rui</th>\n",
       "      <th>est</th>\n",
       "      <th>details</th>\n",
       "      <th>Iu</th>\n",
       "      <th>Ui</th>\n",
       "      <th>err</th>\n",
       "    </tr>\n",
       "  </thead>\n",
       "  <tbody>\n",
       "    <tr>\n",
       "      <td>10249</td>\n",
       "      <td>167</td>\n",
       "      <td>169</td>\n",
       "      <td>1.0</td>\n",
       "      <td>4.399153</td>\n",
       "      <td>{'was_impossible': False}</td>\n",
       "      <td>48</td>\n",
       "      <td>87</td>\n",
       "      <td>3.399153</td>\n",
       "    </tr>\n",
       "    <tr>\n",
       "      <td>2488</td>\n",
       "      <td>887</td>\n",
       "      <td>183</td>\n",
       "      <td>1.0</td>\n",
       "      <td>4.404189</td>\n",
       "      <td>{'was_impossible': False}</td>\n",
       "      <td>128</td>\n",
       "      <td>225</td>\n",
       "      <td>3.404189</td>\n",
       "    </tr>\n",
       "    <tr>\n",
       "      <td>10295</td>\n",
       "      <td>901</td>\n",
       "      <td>56</td>\n",
       "      <td>1.0</td>\n",
       "      <td>4.425839</td>\n",
       "      <td>{'was_impossible': False}</td>\n",
       "      <td>91</td>\n",
       "      <td>295</td>\n",
       "      <td>3.425839</td>\n",
       "    </tr>\n",
       "    <tr>\n",
       "      <td>1210</td>\n",
       "      <td>314</td>\n",
       "      <td>56</td>\n",
       "      <td>1.0</td>\n",
       "      <td>4.426705</td>\n",
       "      <td>{'was_impossible': False}</td>\n",
       "      <td>175</td>\n",
       "      <td>295</td>\n",
       "      <td>3.426705</td>\n",
       "    </tr>\n",
       "    <tr>\n",
       "      <td>6373</td>\n",
       "      <td>253</td>\n",
       "      <td>192</td>\n",
       "      <td>1.0</td>\n",
       "      <td>4.431180</td>\n",
       "      <td>{'was_impossible': False}</td>\n",
       "      <td>80</td>\n",
       "      <td>82</td>\n",
       "      <td>3.431180</td>\n",
       "    </tr>\n",
       "    <tr>\n",
       "      <td>22160</td>\n",
       "      <td>534</td>\n",
       "      <td>93</td>\n",
       "      <td>1.0</td>\n",
       "      <td>4.472527</td>\n",
       "      <td>{'was_impossible': False}</td>\n",
       "      <td>63</td>\n",
       "      <td>78</td>\n",
       "      <td>3.472527</td>\n",
       "    </tr>\n",
       "    <tr>\n",
       "      <td>9595</td>\n",
       "      <td>588</td>\n",
       "      <td>98</td>\n",
       "      <td>1.0</td>\n",
       "      <td>4.587681</td>\n",
       "      <td>{'was_impossible': False}</td>\n",
       "      <td>167</td>\n",
       "      <td>301</td>\n",
       "      <td>3.587681</td>\n",
       "    </tr>\n",
       "    <tr>\n",
       "      <td>743</td>\n",
       "      <td>481</td>\n",
       "      <td>318</td>\n",
       "      <td>1.0</td>\n",
       "      <td>4.647793</td>\n",
       "      <td>{'was_impossible': False}</td>\n",
       "      <td>44</td>\n",
       "      <td>234</td>\n",
       "      <td>3.647793</td>\n",
       "    </tr>\n",
       "    <tr>\n",
       "      <td>20194</td>\n",
       "      <td>295</td>\n",
       "      <td>183</td>\n",
       "      <td>1.0</td>\n",
       "      <td>4.690554</td>\n",
       "      <td>{'was_impossible': False}</td>\n",
       "      <td>151</td>\n",
       "      <td>225</td>\n",
       "      <td>3.690554</td>\n",
       "    </tr>\n",
       "    <tr>\n",
       "      <td>2585</td>\n",
       "      <td>405</td>\n",
       "      <td>452</td>\n",
       "      <td>5.0</td>\n",
       "      <td>1.256944</td>\n",
       "      <td>{'was_impossible': False}</td>\n",
       "      <td>563</td>\n",
       "      <td>51</td>\n",
       "      <td>3.743056</td>\n",
       "    </tr>\n",
       "  </tbody>\n",
       "</table>\n",
       "</div>"
      ],
      "text/plain": [
       "       uid  iid  rui       est                    details   Iu   Ui       err\n",
       "10249  167  169  1.0  4.399153  {'was_impossible': False}   48   87  3.399153\n",
       "2488   887  183  1.0  4.404189  {'was_impossible': False}  128  225  3.404189\n",
       "10295  901   56  1.0  4.425839  {'was_impossible': False}   91  295  3.425839\n",
       "1210   314   56  1.0  4.426705  {'was_impossible': False}  175  295  3.426705\n",
       "6373   253  192  1.0  4.431180  {'was_impossible': False}   80   82  3.431180\n",
       "22160  534   93  1.0  4.472527  {'was_impossible': False}   63   78  3.472527\n",
       "9595   588   98  1.0  4.587681  {'was_impossible': False}  167  301  3.587681\n",
       "743    481  318  1.0  4.647793  {'was_impossible': False}   44  234  3.647793\n",
       "20194  295  183  1.0  4.690554  {'was_impossible': False}  151  225  3.690554\n",
       "2585   405  452  5.0  1.256944  {'was_impossible': False}  563   51  3.743056"
      ]
     },
     "execution_count": 50,
     "metadata": {},
     "output_type": "execute_result"
    }
   ],
   "source": [
    "worst_predictions"
   ]
  },
  {
   "cell_type": "code",
   "execution_count": null,
   "metadata": {},
   "outputs": [],
   "source": []
  }
 ],
 "metadata": {
  "kernelspec": {
   "display_name": "Python 3",
   "language": "python",
   "name": "python3"
  },
  "language_info": {
   "codemirror_mode": {
    "name": "ipython",
    "version": 3
   },
   "file_extension": ".py",
   "mimetype": "text/x-python",
   "name": "python",
   "nbconvert_exporter": "python",
   "pygments_lexer": "ipython3",
   "version": "3.7.4"
  }
 },
 "nbformat": 4,
 "nbformat_minor": 4
}
